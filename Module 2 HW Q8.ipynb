{
 "cells": [
  {
   "cell_type": "code",
   "execution_count": 1,
   "id": "b3cfaea0",
   "metadata": {},
   "outputs": [
    {
     "name": "stdout",
     "output_type": "stream",
     "text": [
      "24.034609838166958\n"
     ]
    }
   ],
   "source": [
    "#calculating Susans Body Mass Index\n",
    "\n",
    "#Susans weight in Kilograms and height in Meters\n",
    "weight = 60\n",
    "height = 1.58\n",
    "\n",
    "#Convert weight, integer type, to float type\n",
    "x = float(weight)\n",
    "\n",
    "#Arithmetic function to calculate BMI using kg/m^2\n",
    "BMI = x/height**2\n",
    "\n",
    "#Print BMI Calculation\n",
    "print(BMI)\n"
   ]
  },
  {
   "cell_type": "code",
   "execution_count": 2,
   "id": "388930db",
   "metadata": {},
   "outputs": [
    {
     "name": "stdout",
     "output_type": "stream",
     "text": [
      "Susans BMI is 24.034609838166958 kg/m^2\n"
     ]
    }
   ],
   "source": [
    "#This line is extra - if we were to communicate Susans BMI as a statement\n",
    "y = str(BMI)\n",
    "print(\"Susans BMI is \" + y +\" kg/m^2\")"
   ]
  },
  {
   "cell_type": "code",
   "execution_count": null,
   "id": "1a53ed6a",
   "metadata": {},
   "outputs": [],
   "source": []
  }
 ],
 "metadata": {
  "kernelspec": {
   "display_name": "Python 3 (ipykernel)",
   "language": "python",
   "name": "python3"
  },
  "language_info": {
   "codemirror_mode": {
    "name": "ipython",
    "version": 3
   },
   "file_extension": ".py",
   "mimetype": "text/x-python",
   "name": "python",
   "nbconvert_exporter": "python",
   "pygments_lexer": "ipython3",
   "version": "3.10.6"
  }
 },
 "nbformat": 4,
 "nbformat_minor": 5
}
